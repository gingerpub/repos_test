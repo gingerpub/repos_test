{
 "cells": [
  {
   "cell_type": "code",
   "execution_count": null,
   "id": "2a58dd58",
   "metadata": {},
   "outputs": [],
   "source": []
  },
  {
   "cell_type": "code",
   "execution_count": null,
   "id": "13775d46",
   "metadata": {},
   "outputs": [],
   "source": []
  },
  {
   "cell_type": "code",
   "execution_count": null,
   "id": "fc46bb28",
   "metadata": {},
   "outputs": [],
   "source": []
  },
  {
   "cell_type": "markdown",
   "id": "ed3325ee",
   "metadata": {},
   "source": [
    "#### 排序函数 .sort() sorted()"
   ]
  },
  {
   "cell_type": "code",
   "execution_count": 18,
   "id": "e20e3b16",
   "metadata": {},
   "outputs": [
    {
     "name": "stdout",
     "output_type": "stream",
     "text": [
      "[0, 0, 0, 1, 2, 3, 4, 5] [1, 2, 3, 4, 5, 0, 0, 0]\n",
      "[0, 0, 0, 1, 2, 3, 4, 5]\n"
     ]
    }
   ],
   "source": [
    "# .sort()排序列表本身, sorted()输出排序后列表\n",
    "list1 = [1,2,3,4,5,0, 0, 0]\n",
    "print(sorted(list1), list1)\n",
    "\n",
    "list1.sort()\n",
    "print(list1)"
   ]
  },
  {
   "cell_type": "code",
   "execution_count": 19,
   "id": "924ab3d4",
   "metadata": {},
   "outputs": [
    {
     "name": "stdout",
     "output_type": "stream",
     "text": [
      "['a', 'ccc', 'bbbb', 'ddddd']\n"
     ]
    }
   ],
   "source": [
    "# list.sort(key=None, reverse=False)\n",
    "# key接受的是一个只有一个行参的函数\n",
    "# eg: 接收函数的返回值作为排序权值\n",
    "def ele_len(x):\n",
    "    return len(x)\n",
    "\n",
    "list2 = ['a', 'bbbb', 'ccc', 'ddddd']\n",
    "list2.sort(key=ele_len)\n",
    "print(list2)"
   ]
  },
  {
   "cell_type": "code",
   "execution_count": 20,
   "id": "d7726286",
   "metadata": {},
   "outputs": [
    {
     "name": "stdout",
     "output_type": "stream",
     "text": [
      "['ddddd', 'ccc', 'bbbb', 'a']\n"
     ]
    }
   ],
   "source": [
    "# reverse接受的是一个bool类型的值 (Ture or False)，默认False\n",
    "list2 = ['a', 'bbbb', 'ccc', 'ddddd']\n",
    "list2.sort(reverse=True)\n",
    "print(list2)"
   ]
  },
  {
   "cell_type": "code",
   "execution_count": null,
   "id": "bf0710ed",
   "metadata": {},
   "outputs": [],
   "source": []
  },
  {
   "cell_type": "markdown",
   "id": "8fab66ea",
   "metadata": {},
   "source": [
    "#### 添加元素"
   ]
  },
  {
   "cell_type": "code",
   "execution_count": 25,
   "id": "f4f272b1",
   "metadata": {},
   "outputs": [
    {
     "name": "stdout",
     "output_type": "stream",
     "text": [
      "[1, 2, 3, 4]\n"
     ]
    }
   ],
   "source": [
    "list1 = [1,2,3]\n",
    "list1.append(4)\n",
    "print(list1)"
   ]
  },
  {
   "cell_type": "markdown",
   "id": "73195481",
   "metadata": {},
   "source": [
    "#### 扩充多个元素"
   ]
  },
  {
   "cell_type": "code",
   "execution_count": 27,
   "id": "4de2f6c9",
   "metadata": {},
   "outputs": [
    {
     "name": "stdout",
     "output_type": "stream",
     "text": [
      "[1, 2, 3, 5, 6, 7]\n"
     ]
    }
   ],
   "source": [
    "list1 = [1,2,3]\n",
    "list1.extend([5,6,7])\n",
    "print(list1)"
   ]
  },
  {
   "cell_type": "markdown",
   "id": "77a46191",
   "metadata": {},
   "source": [
    "#### 索引位置"
   ]
  },
  {
   "cell_type": "code",
   "execution_count": null,
   "id": "1b13aeba",
   "metadata": {},
   "outputs": [],
   "source": []
  },
  {
   "cell_type": "code",
   "execution_count": null,
   "id": "e8ee7590",
   "metadata": {},
   "outputs": [],
   "source": []
  },
  {
   "cell_type": "code",
   "execution_count": null,
   "id": "26b7879b",
   "metadata": {},
   "outputs": [],
   "source": []
  },
  {
   "cell_type": "markdown",
   "id": "68c96a10",
   "metadata": {},
   "source": [
    "#### 统计元素个数"
   ]
  },
  {
   "cell_type": "code",
   "execution_count": 26,
   "id": "e5c65001",
   "metadata": {},
   "outputs": [
    {
     "name": "stdout",
     "output_type": "stream",
     "text": [
      "2\n"
     ]
    }
   ],
   "source": [
    "list1 = [1,2,3,3]\n",
    "print(list1.count(3))"
   ]
  },
  {
   "cell_type": "markdown",
   "id": "cf3743db",
   "metadata": {},
   "source": [
    "#### 删除元素"
   ]
  },
  {
   "cell_type": "code",
   "execution_count": 21,
   "id": "fc19c3cc",
   "metadata": {},
   "outputs": [
    {
     "name": "stdout",
     "output_type": "stream",
     "text": [
      "<built-in method pop of list object at 0x104fc6e40>\n"
     ]
    }
   ],
   "source": [
    "print(['ddddd', 'ccc', 'bbbb', 'a'].pop)"
   ]
  },
  {
   "cell_type": "markdown",
   "id": "5dd282b8",
   "metadata": {},
   "source": [
    "#### 进制转换"
   ]
  },
  {
   "cell_type": "code",
   "execution_count": 45,
   "id": "24e594cd",
   "metadata": {},
   "outputs": [
    {
     "name": "stdout",
     "output_type": "stream",
     "text": [
      "23\n",
      "0o27\n",
      "0x17\n",
      "0b1010\n"
     ]
    }
   ],
   "source": [
    "print(int('10111',2))    #进制转换为10进制\n",
    "print(oct(int('10111',2)))    #进制转换为8进制\n",
    "print(hex(int('10111',2)))    #进制转换为16进制\n",
    "print(bin(int(10)))    #进制转换为2进制"
   ]
  },
  {
   "cell_type": "code",
   "execution_count": 52,
   "id": "b298265a",
   "metadata": {},
   "outputs": [
    {
     "name": "stdout",
     "output_type": "stream",
     "text": [
      "te\n"
     ]
    }
   ],
   "source": [
    "list1 = 'test'\n",
    "print(list1[0:2])"
   ]
  },
  {
   "cell_type": "code",
   "execution_count": 59,
   "id": "20ce8598",
   "metadata": {
    "scrolled": true
   },
   "outputs": [
    {
     "name": "stdout",
     "output_type": "stream",
     "text": [
      "Hirethetoppythonfreelancers\n"
     ]
    }
   ],
   "source": [
    "flexiple = [\"Hire\", \"the\", \"top\", \"python\",\"freelancers\"]\n",
    "print(\"\".join(flexiple))  # join只能拼接str\n",
    "\n",
    "flexiple = [\"Hire\", \"the\", \"top\", 10, \"python\",\"freelancers\"]\n",
    "print(\"\".join(map(str,flexiple)))    # 可以先用map转换列表中的元素"
   ]
  },
  {
   "cell_type": "code",
   "execution_count": 71,
   "id": "b800489a",
   "metadata": {},
   "outputs": [
    {
     "name": "stdout",
     "output_type": "stream",
     "text": [
      "<class 'str'>\n",
      "<class 'int'>\n"
     ]
    }
   ],
   "source": [
    "a = '2'\n",
    "print(type(a))\n",
    "print(type(eval(a)))"
   ]
  },
  {
   "cell_type": "code",
   "execution_count": 73,
   "id": "d2eb809a",
   "metadata": {},
   "outputs": [
    {
     "name": "stdout",
     "output_type": "stream",
     "text": [
      "['niuniu', 'niumei', 'gurr', 'lolo']\n"
     ]
    }
   ],
   "source": [
    "current_users = list(map(lambda x:x.lower() , ['Niuniu', 'Niumei', 'GURR', 'LOLO']))\n",
    "print(current_users)"
   ]
  },
  {
   "cell_type": "code",
   "execution_count": 6,
   "id": "c749a174",
   "metadata": {},
   "outputs": [
    {
     "name": "stdout",
     "output_type": "stream",
     "text": [
      "[2, 2, '——', '——']\n"
     ]
    }
   ],
   "source": [
    "nums = [3,2,2,3]\n",
    "val = 3\n",
    "idx=0\n",
    "for i in range(len(nums)):\n",
    "    if nums[i]==val:\n",
    "        nums[i]='_'\n",
    "    elif nums[i]!=val:\n",
    "        tmp = nums[idx]\n",
    "        nums[idx]=nums[i]\n",
    "        nums[i]=tmp\n",
    "        idx+=1\n",
    "print(nums)"
   ]
  },
  {
   "cell_type": "code",
   "execution_count": 7,
   "id": "f4193968",
   "metadata": {},
   "outputs": [
    {
     "name": "stdout",
     "output_type": "stream",
     "text": [
      "[2, 2, 2, 3] 4 2\n"
     ]
    }
   ],
   "source": [
    "nums = [3,2,2,3]\n",
    "val = 3\n",
    "a = 0\n",
    "b = 0\n",
    "while a < len(nums):\n",
    "    if nums[a] != val:\n",
    "        nums[b] = nums[a]\n",
    "        b += 1\n",
    "    a += 1\n",
    "print(nums, a, b)"
   ]
  },
  {
   "cell_type": "code",
   "execution_count": null,
   "id": "33a8a9b4",
   "metadata": {},
   "outputs": [],
   "source": []
  }
 ],
 "metadata": {
  "kernelspec": {
   "display_name": "Python 3 (ipykernel)",
   "language": "python",
   "name": "python3"
  },
  "language_info": {
   "codemirror_mode": {
    "name": "ipython",
    "version": 3
   },
   "file_extension": ".py",
   "mimetype": "text/x-python",
   "name": "python",
   "nbconvert_exporter": "python",
   "pygments_lexer": "ipython3",
   "version": "3.11.7"
  }
 },
 "nbformat": 4,
 "nbformat_minor": 5
}
